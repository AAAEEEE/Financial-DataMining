{
 "cells": [
  {
   "cell_type": "code",
   "execution_count": null,
   "metadata": {},
   "outputs": [],
   "source": [
    "import featuretools as ft\n",
    "import pandas as pd\n",
    "import numpy as np\n",
    "import matplotlib.pyplot as plt\n",
    "import tqdm\n",
    "from pandas.tseries.offsets import *"
   ]
  },
  {
   "cell_type": "markdown",
   "metadata": {},
   "source": [
    "## Process Data with DFS"
   ]
  },
  {
   "cell_type": "code",
   "execution_count": null,
   "metadata": {},
   "outputs": [],
   "source": [
    "df_train = pd.read_csv('DataSet/TrainSet.csv')\n",
    "df_val = pd.read_csv('DataSet/ValSet.csv')"
   ]
  },
  {
   "cell_type": "code",
   "execution_count": null,
   "metadata": {},
   "outputs": [],
   "source": [
    "play_data = ['indicator4','indicator88','indicator2','indicator83','indicator75','midPrice',  'LastPrice', 'Volume', 'LastVolume', 'Turnover', 'LastTurnover',\n",
    "       'OpenInterest', 'UpperLimitPrice', 'LowerLimitPrice']"
   ]
  },
  {
   "cell_type": "code",
   "execution_count": null,
   "metadata": {},
   "outputs": [],
   "source": [
    "change_index = (df_train['am_pm'].values[:-1].astype(int) - df_train['am_pm'].values[1:].astype(int) != 0).nonzero()[0] + 1"
   ]
  },
  {
   "cell_type": "code",
   "execution_count": null,
   "metadata": {},
   "outputs": [],
   "source": [
    "for i in tqdm.tqdm(range(len(play_data))):\n",
    "    df_train[play_data[i]+'_mean'] = np.zeros(df_train.shape[0])\n",
    "    tmp = df_train[play_data[i]].values\n",
    "    for j in range(30):\n",
    "        df_train[play_data[i]+'_mean'] = df_train[play_data[i] + '_mean'] + tmp\n",
    "        tmp = np.append([0] ,tmp[0:-1])\n",
    "    sh = np.ones(df_train.shape[0]) * 30\n",
    "    for j in range(len(change_index)):\n",
    "        for k in range(30):\n",
    "            sh[change_index[j] + k] = sh[change_index[j] + k] - 29 + k\n",
    "            for l in range(30 - k):\n",
    "                df_train[play_data[i]+'_mean'][change_index[j] + k] = df_train[play_data[i]+'_mean'][change_index[j] + k] - df_train[play_data[i]][change_index[j] - l - 1]         \n",
    "    for j in range(30):\n",
    "        sh[j] = j + 1\n",
    "    df_train[play_data[i]+'_mean'] = df_train[play_data[i]+'_mean'] / sh"
   ]
  },
  {
   "cell_type": "code",
   "execution_count": null,
   "metadata": {},
   "outputs": [],
   "source": [
    "for i in tqdm.tqdm(range(len(play_data))):\n",
    "    df_train[play_data[i]+'_std'] = np.zeros(df_train.shape[0])\n",
    "    tmp = df_train[play_data[i]].values \n",
    "    for j in range(30):\n",
    "        df_train[play_data[i]+'_std'] = df_train[play_data[i] + '_std'] + (tmp - df_train[play_data[i]+'_mean'].values) ** 2\n",
    "        tmp = np.append([0] ,tmp[0:-1])\n",
    "    sh = np.ones(df_train.shape[0]) * 30\n",
    "    for j in range(len(change_index)):\n",
    "        for k in range(30):\n",
    "            sh[change_index[j] + k] = sh[change_index[j] + k] - 29 + k\n",
    "            for l in range(30 - k):\n",
    "                df_train[play_data[i]+'_std'][change_index[j] + k] = df_train[play_data[i]+'_std'][change_index[j] + k] - (df_train[play_data[i]][change_index[j] - l - 1] - df_train[play_data[i]+'_mean'][change_index[j] + k]) ** 2          \n",
    "    for j in range(30):\n",
    "        for k in range(30 - j - 1):\n",
    "            df_train[play_data[i]+'_std'][j] = df_train[play_data[i]+'_std'][j] - (df_train[play_data[i]+'_mean'].values[j]) ** 2\n",
    "        sh[j] = j + 1\n",
    "    df_train[play_data[i]+'_std'] = df_train[play_data[i]+'_std'] / sh"
   ]
  },
  {
   "cell_type": "code",
   "execution_count": null,
   "metadata": {},
   "outputs": [],
   "source": [
    "for i in tqdm.tqdm(range(len(play_data))):\n",
    "    df_train[play_data[i]+'_diff'] = df_train[play_data[i]]\n",
    "    tmp = np.append([tmp[0]] ,tmp[0:-1])\n",
    "    df_train[play_data[i]+'_diff'] = df_train[play_data[i]+'_diff'] - tmp\n",
    "    for j in range(len(change_index)):\n",
    "        df_train[play_data[i]][change_index[j]] = 0"
   ]
  },
  {
   "cell_type": "code",
   "execution_count": null,
   "metadata": {},
   "outputs": [],
   "source": [
    "df_train.to_csv('DataSet/Dataset_DFSn.csv', index=False)"
   ]
  },
  {
   "cell_type": "code",
   "execution_count": null,
   "metadata": {},
   "outputs": [],
   "source": [
    "change_index = (df_val['am_pm'].values[:-1].astype(int) - df_val['am_pm'].values[1:].astype(int) != 0).nonzero()[0] + 1"
   ]
  },
  {
   "cell_type": "code",
   "execution_count": null,
   "metadata": {},
   "outputs": [],
   "source": [
    "for i in tqdm.tqdm(range(len(play_data))):\n",
    "    df_val[play_data[i]+'_mean'] = np.zeros(df_val.shape[0])\n",
    "    tmp = df_val[play_data[i]].values\n",
    "    for j in range(30):\n",
    "        df_val[play_data[i]+'_mean'] = df_val[play_data[i] + '_mean'] + tmp\n",
    "        tmp = np.append([0] ,tmp[0:-1])\n",
    "    sh = np.ones(df_val.shape[0]) * 30\n",
    "    for j in range(len(change_index)):\n",
    "        for k in range(30):\n",
    "            sh[change_index[j] + k] = sh[change_index[j] + k] - 29 + k\n",
    "            for l in range(30 - k - 1):\n",
    "                df_val[play_data[i]+'_mean'][change_index[j] + k] = df_val[play_data[i]+'_mean'][change_index[j] + k] - df_val[play_data[i]][change_index[j] - l - 1]         \n",
    "    for j in range(30):\n",
    "        sh[j] = j + 1\n",
    "    df_val[play_data[i]+'_mean'] = df_val[play_data[i]+'_mean'] / sh"
   ]
  },
  {
   "cell_type": "code",
   "execution_count": null,
   "metadata": {},
   "outputs": [],
   "source": [
    "for i in tqdm.tqdm(range(len(play_data))):\n",
    "    df_val[play_data[i]+'_std'] = np.zeros(df_val.shape[0])\n",
    "    tmp = df_val[play_data[i]].values \n",
    "    for j in range(30):\n",
    "        df_val[play_data[i]+'_std'] = df_val[play_data[i] + '_std'] + (tmp - df_val[play_data[i]+'_mean'].values) ** 2\n",
    "        tmp = np.append([0] ,tmp[0:-1])\n",
    "    sh = np.ones(df_val.shape[0]) * 30\n",
    "    for j in range(len(change_index)):\n",
    "        for k in range(30):\n",
    "            sh[change_index[j] + k] = sh[change_index[j] + k] - 29 + k\n",
    "            for l in range(30 - k - 1):\n",
    "                df_val[play_data[i]+'_std'][change_index[j] + k] = df_val[play_data[i]+'_std'][change_index[j] + k] - (df_val[play_data[i]][change_index[j] - l - 1] - df_train[play_data[i]+'_mean'][change_index[j] + k]) ** 2          \n",
    "    for j in range(30):\n",
    "        for k in range(30 - j - 1):\n",
    "            df_val[play_data[i]+'_std'][j] = df_val[play_data[i]+'_std'][j] - (df_val[play_data[i]+'_mean'].values[j]) ** 2\n",
    "        sh[j] = j + 1\n",
    "    df_val[play_data[i]+'_std'] = df_val[play_data[i]+'_std'] / sh"
   ]
  },
  {
   "cell_type": "code",
   "execution_count": null,
   "metadata": {},
   "outputs": [],
   "source": [
    "for i in tqdm.tqdm(range(len(play_data))):\n",
    "    df_val[play_data[i]+'_diff'] = df_val[play_data[i]]\n",
    "    tmp = np.append([tmp[0]] ,tmp[0:-1])\n",
    "    df_val[play_data[i]+'_diff'] = df_val[play_data[i]+'_diff'] - tmp\n",
    "    for j in range(len(change_index)):\n",
    "        df_val[play_data[i]][change_index[j]] = 0"
   ]
  },
  {
   "cell_type": "code",
   "execution_count": null,
   "metadata": {},
   "outputs": [],
   "source": [
    "df_val.to_csv('DataSet/Dataset_DFSn_val.csv', index=False)"
   ]
  },
  {
   "cell_type": "markdown",
   "metadata": {},
   "source": [
    "## Process Data with DWT"
   ]
  },
  {
   "cell_type": "code",
   "execution_count": 1,
   "metadata": {},
   "outputs": [],
   "source": [
    "import pywt\n",
    "def wavelet_transform(data,wavelet='db2',mode='reflect'):\n",
    "    (cA,cD) = pywt.dwt(data,wavelet,mode)\n",
    "    return pywt.upcoef('a',cA,wavelet,take = len(data)), \\\n",
    "            pywt.upcoef('d',cD,wavelet,take = len(data))"
   ]
  },
  {
   "cell_type": "code",
   "execution_count": null,
   "metadata": {},
   "outputs": [],
   "source": [
    "df_train = pd.read_csv('DataSet/TrainSet.csv')\n",
    "df_val = pd.read_csv('DataSet/ValSet.csv')\n",
    "indicators = df_train.columns.values[:108].tolist()\n",
    "market_stat = ['midPrice',  'LastPrice', 'Volume', 'LastVolume', 'Turnover', 'LastTurnover',\n",
    "       'OpenInterest', 'UpperLimitPrice', 'LowerLimitPrice',] # 'am_pm',\n",
    "#        'UpdateMinute']\n",
    "features = indicators + market_stat\n",
    "train_data = df_train[features]\n",
    "train_data=train_data.values\n",
    "val_data = df_val[features]\n",
    "val_data=val_data.values\n"
   ]
  },
  {
   "cell_type": "code",
   "execution_count": null,
   "metadata": {},
   "outputs": [],
   "source": [
    "from tqdm import tqdm\n",
    "train_data_WT = np.empty((2,*train_data.shape))\n",
    "for j in tqdm(range(len(train_data[0]))):\n",
    "    A, D = pywt.wavelet_transform(train_data[:,j])\n",
    "    train_data_WT[0,:,j] = A[:]\n",
    "    train_data_WT[1,:,j] = D[:]"
   ]
  },
  {
   "cell_type": "code",
   "execution_count": null,
   "metadata": {},
   "outputs": [],
   "source": [
    "val_data_WT = np.empty((2,*val_data.shape))\n",
    "for j in tqdm(range(len(val_data[0]))):\n",
    "    A, D = pywt.wavelet_transform(val_data[:,j])\n",
    "    val_data_WT[0,:,j] = A[:]\n",
    "    val_data_WT[1,:,j] = D[:]"
   ]
  },
  {
   "cell_type": "code",
   "execution_count": null,
   "metadata": {},
   "outputs": [],
   "source": [
    "train_data_WT_merge = np.concatenate((train_data_WT[0],train_data_WT[1]),1)\n",
    "val_data_WT_merge = np.concatenate((val_data_WT[0],val_data_WT[1]),1)"
   ]
  }
 ],
 "metadata": {
  "kernelspec": {
   "display_name": "Python 3",
   "language": "python",
   "name": "python3"
  },
  "language_info": {
   "codemirror_mode": {
    "name": "ipython",
    "version": 3
   },
   "file_extension": ".py",
   "mimetype": "text/x-python",
   "name": "python",
   "nbconvert_exporter": "python",
   "pygments_lexer": "ipython3",
   "version": "3.6.8"
  }
 },
 "nbformat": 4,
 "nbformat_minor": 2
}
